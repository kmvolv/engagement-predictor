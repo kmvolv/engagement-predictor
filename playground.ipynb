{
 "cells": [
  {
   "cell_type": "code",
   "execution_count": 1,
   "id": "46dd6469",
   "metadata": {},
   "outputs": [
    {
     "name": "stdout",
     "output_type": "stream",
     "text": [
      "<class 'pandas.core.frame.DataFrame'>\n",
      "RangeIndex: 82865 entries, 0 to 82864\n",
      "Data columns (total 11 columns):\n",
      " #   Column           Non-Null Count  Dtype  \n",
      "---  ------           --------------  -----  \n",
      " 0   item_id          82865 non-null  object \n",
      " 1   view_number      82860 non-null  float64\n",
      " 2   comment_number   82860 non-null  float64\n",
      " 3   thumbup_number   82860 non-null  float64\n",
      " 4   share_number     82860 non-null  float64\n",
      " 5   coin_number      82860 non-null  float64\n",
      " 6   favorite_number  82860 non-null  float64\n",
      " 7   barrage_number   82860 non-null  float64\n",
      " 8   title            82673 non-null  object \n",
      " 9   tag              82860 non-null  object \n",
      " 10  description      63107 non-null  object \n",
      "dtypes: float64(7), object(4)\n",
      "memory usage: 7.0+ MB\n"
     ]
    }
   ],
   "source": [
    "import pandas as pd\n",
    "import numpy as np\n",
    "\n",
    "# read the CSV file into a DataFrame\n",
    "info_df = pd.read_csv('item_info.csv')\n",
    "\n",
    "info_df.info()"
   ]
  },
  {
   "cell_type": "code",
   "execution_count": 23,
   "id": "bf4cb8b2",
   "metadata": {},
   "outputs": [],
   "source": [
    "# split info_df into train and validation and test sets\n",
    "from sklearn.model_selection import train_test_split\n",
    "train_df, test_df = train_test_split(info_df, test_size=0.1, random_state=42)\n",
    "val_df, test_df = train_test_split(test_df, test_size=0.5, random_state=42)"
   ]
  },
  {
   "cell_type": "code",
   "execution_count": 3,
   "id": "a68de6c2",
   "metadata": {},
   "outputs": [
    {
     "name": "stdout",
     "output_type": "stream",
     "text": [
      "<class 'pandas.core.frame.DataFrame'>\n",
      "RangeIndex: 989494 entries, 0 to 989493\n",
      "Data columns (total 3 columns):\n",
      " #   Column     Non-Null Count   Dtype \n",
      "---  ------     --------------   ----- \n",
      " 0   item_id    989494 non-null  object\n",
      " 1   user_id    989494 non-null  object\n",
      " 2   timestamp  989494 non-null  int64 \n",
      "dtypes: int64(1), object(2)\n",
      "memory usage: 22.6+ MB\n",
      "Number of unique users: 50000\n",
      "Number of unique items: 82865\n"
     ]
    }
   ],
   "source": [
    "interaction_df = pd.read_csv('interaction.csv')\n",
    "\n",
    "# interaction_df.head()\n",
    "interaction_df.info()\n",
    "# print the number of unique user_id and item_id\n",
    "num_users = interaction_df['user_id'].nunique()\n",
    "num_items = interaction_df['item_id'].nunique()\n",
    "print(f'Number of unique users: {num_users}')\n",
    "print(f'Number of unique items: {num_items}')"
   ]
  },
  {
   "cell_type": "code",
   "execution_count": 23,
   "id": "a1ac52af",
   "metadata": {},
   "outputs": [
    {
     "name": "stdout",
     "output_type": "stream",
     "text": [
      "Number of NaN values in description column: 19758\n"
     ]
    }
   ],
   "source": [
    "# find the number of nan values in the description column in info_df\n",
    "num_nans = info_df['description'].isna().sum()\n",
    "print(f'Number of NaN values in description column: {num_nans}')"
   ]
  },
  {
   "cell_type": "code",
   "execution_count": null,
   "id": "a89acbb7",
   "metadata": {},
   "outputs": [],
   "source": [
    "import json\n",
    "\n",
    "def create_json(df):\n",
    "    data = []\n",
    "    for index, row in df.iterrows():\n",
    "        item = {}\n",
    "        item['image'] = f\"D:/pixelrec_imgs/cover/{row['item_id']}.jpg\"   # Base path to be changed !!!\n",
    "        try:\n",
    "            item['engagement'] = {\n",
    "                'likes': int(row['thumbup_number']),\n",
    "                'comments': int(row['comment_number']),\n",
    "                'shares': int(row['share_number']),\n",
    "                'views' : int(row['view_number']),\n",
    "                'favorites' : int(row['favorite_number'])\n",
    "            }\n",
    "        except:\n",
    "            print(\"The row at index\", index, \"has invalid data. Skipping this row.\")\n",
    "            continue\n",
    "        item['title'] = row['title'] if pd.notna(row['title']) else \"\"\n",
    "        item['tag'] = row['tag'] if pd.notna(row['tag']) else \"\"\n",
    "        item['description'] = row['description'] if pd.notna(row['description']) else \"\"\n",
    "        \n",
    "        data.append(item)\n",
    "    \n",
    "    return data"
   ]
  },
  {
   "cell_type": "code",
   "execution_count": 25,
   "id": "b74be892",
   "metadata": {},
   "outputs": [
    {
     "name": "stdout",
     "output_type": "stream",
     "text": [
      "The row at index 38511 has invalid data. Skipping this row.\n",
      "The row at index 19532 has invalid data. Skipping this row.\n",
      "The row at index 25279 has invalid data. Skipping this row.\n",
      "The row at index 23483 has invalid data. Skipping this row.\n",
      "The row at index 9051 has invalid data. Skipping this row.\n"
     ]
    }
   ],
   "source": [
    "train_data = create_json(train_df)\n",
    "with open('data/train.json', 'w') as f:\n",
    "    json.dump(train_data, f, indent=4)\n",
    "\n",
    "val_data = create_json(val_df)\n",
    "with open('data/validation.json', 'w') as f:\n",
    "    json.dump(val_data, f, indent=4)\n",
    "\n",
    "test_data = create_json(test_df)\n",
    "with open('data/test.json', 'w') as f:\n",
    "    json.dump(test_data, f, indent=4)"
   ]
  }
 ],
 "metadata": {
  "kernelspec": {
   "display_name": "prac",
   "language": "python",
   "name": "python3"
  },
  "language_info": {
   "codemirror_mode": {
    "name": "ipython",
    "version": 3
   },
   "file_extension": ".py",
   "mimetype": "text/x-python",
   "name": "python",
   "nbconvert_exporter": "python",
   "pygments_lexer": "ipython3",
   "version": "3.10.18"
  }
 },
 "nbformat": 4,
 "nbformat_minor": 5
}
